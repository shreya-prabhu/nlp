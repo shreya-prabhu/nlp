{
 "cells": [
  {
   "cell_type": "markdown",
   "metadata": {},
   "source": [
    "## Sentence Classifier \n",
    "\n",
    "### This project classifies a given sentence into various types such as imperative , interrogative , assertive, exclamatory or negative statements with the help of open-source software library Spacy."
   ]
  },
  {
   "cell_type": "markdown",
   "metadata": {},
   "source": [
    "## Spacy documentation\n",
    "\n",
    "#### token.text: each word of the string.\n",
    "\n",
    "#### token.pos_ : parts of speech, assigning word types to tokens, like verb or noun.\n",
    "\n",
    "#### token.dep_  : assigning syntactic dependency labels, describing the relations between individual tokens, like subject or object."
   ]
  },
  {
   "cell_type": "code",
   "execution_count": 1,
   "metadata": {},
   "outputs": [],
   "source": [
    "import spacy\n",
    "from enum import Enum"
   ]
  },
  {
   "cell_type": "code",
   "execution_count": 2,
   "metadata": {},
   "outputs": [],
   "source": [
    "nlp = spacy.load('en_core_web_md')"
   ]
  },
  {
   "cell_type": "markdown",
   "metadata": {},
   "source": [
    "### Sentence classes"
   ]
  },
  {
   "cell_type": "code",
   "execution_count": 3,
   "metadata": {},
   "outputs": [],
   "source": [
    "class SentenceType(Enum):\n",
    "    IMPERATIVE = 1\n",
    "    ASSERTIVE = 2\n",
    "    INTERROGATIVE = 3\n",
    "    EXCLAMATORY = 4\n",
    "    NEGATIVE = 5"
   ]
  },
  {
   "cell_type": "markdown",
   "metadata": {},
   "source": [
    "### Sentence is hard coded"
   ]
  },
  {
   "cell_type": "code",
   "execution_count": 4,
   "metadata": {},
   "outputs": [],
   "source": [
    "sentence = \"Hop on one foot.\""
   ]
  },
  {
   "cell_type": "code",
   "execution_count": 5,
   "metadata": {},
   "outputs": [],
   "source": [
    "def getTaggedWords(sentence):\n",
    "    tagged_sentence = nlp(sentence)\n",
    "    tagged_words = [tok for tok in tagged_sentence]\n",
    "    return tagged_words"
   ]
  },
  {
   "cell_type": "code",
   "execution_count": 6,
   "metadata": {},
   "outputs": [],
   "source": [
    "tagged_words = getTaggedWords(sentence) #Tokenising"
   ]
  },
  {
   "cell_type": "code",
   "execution_count": 7,
   "metadata": {},
   "outputs": [
    {
     "name": "stdout",
     "output_type": "stream",
     "text": [
      "VB\n"
     ]
    }
   ],
   "source": [
    "print(tagged_words[0].tag_)"
   ]
  },
  {
   "cell_type": "code",
   "execution_count": 8,
   "metadata": {},
   "outputs": [],
   "source": [
    "def isMatchingRegex(regex_array,tagged_words):\n",
    "    \n",
    "    match = False\n",
    "    for tagged_word in tagged_words:\n",
    "        word_tags = tagged_word.tag_\n",
    "        \n",
    "        for tag in word_tags:\n",
    "            for i in range(len(regex_array)):\n",
    "                \n",
    "                if tag == regex_array[i]:\n",
    "                    match = True\n",
    "                elif tag is None:\n",
    "                    break\n",
    "    return match                \n",
    "                   \n",
    "                    \n",
    "                    "
   ]
  },
  {
   "cell_type": "markdown",
   "metadata": {},
   "source": [
    "### The tone of a sentence can easily be understood simply by looking at its endmark (for example '!')"
   ]
  },
  {
   "cell_type": "code",
   "execution_count": 9,
   "metadata": {},
   "outputs": [],
   "source": [
    "endmark = tagged_words[-1].text"
   ]
  },
  {
   "cell_type": "code",
   "execution_count": 10,
   "metadata": {},
   "outputs": [],
   "source": [
    "def Exclamatory(tagged_words):\n",
    "    if endmark in ['!'] or  tagged_words[0].tag_ == ['UH'] :\n",
    "        return SentenceType.EXCLAMATORY\n",
    "        "
   ]
  },
  {
   "cell_type": "code",
   "execution_count": 11,
   "metadata": {},
   "outputs": [],
   "source": [
    "def Imperative(tagged_words):\n",
    "\n",
    "        \n",
    "        firstRegexRule = [ [\"VB\",\"MD\", \"VBP\", \"VBZ\", \"VBD\"], [\"PRP\", \"NN\", \"NNP\", \"NNS\", \"VBG\"],[\"DT\",\"VB\",\"MD\", \"VBP\", \"VBZ\", \"VBD\"],[\"DT\"]]\n",
    "\n",
    "        secondRegexRule = [[\"WRB\", \"WP\"], [\"MD\", \"VBP\", \"VBZ\", \"VBD\"]]\n",
    "\n",
    "        thirdRegexRule = [[\"MD\", \"VB\",\"VBP\", \"VBZ\", \"VBD\"],[\"DT\",\"IN\"], [\"PRP\", \"NN\", \"NNP\", \"NNS\", \"VBG\"]]\n",
    "        \n",
    "        fourthRegexRule = [[\"PRP\",\"NNP\"], [\"VB\",\"VBP\", \"VBZ\", \"VBD\",\"VBG\"],[\"PRP\", \"NN\", \"NNP\", \"NNS\", \"VBG\"],[\"DT\"],[\"PRP\", \"NN\", \"NNP\", \"NNS\", \"VBG\"]]\n",
    "        \n",
    "        fifthRegexRule = [[\"PRP\",\"NNP\",\"NN\",\"NNS\",\"VBG\"], [\"VB\",\"VBP\", \"VBZ\", \"VBD\",\"VBG\"]]\n",
    "        \n",
    "        if((isMatchingRegex(firstRegexRule, tagged_words)) or (isMatchingRegex(secondRegexRule, tagged_words))\\\n",
    "        or  (isMatchingRegex(thirdRegexRule, tagged_words)) or (isMatchingRegex(fourthRegexRule, tagged_words))\\\n",
    "           or (isMatchingRegex(fifthRegexRule,tagged_words))):\n",
    "                return SentenceType.IMPERATIVE\n",
    "        \n",
    "        if tagged_words[0].tag_ in [\"VB\",\"UH\"] or endmark in ['!'] and tagged_words[1].tag_ not in ['NN','PRP']:\n",
    "            return SentenceType.IMPERATIVE\n",
    "        \n",
    "        for i in range(len(sentence)):\n",
    "            for tagged_word in tagged_words:\n",
    "                if tagged_word.text in [\"must\",\"should\",\"order\"]:\n",
    "                    return SentenceType.IMPERATIVE  \n",
    "    \n",
    "    \n"
   ]
  },
  {
   "cell_type": "code",
   "execution_count": 12,
   "metadata": {},
   "outputs": [],
   "source": [
    "negativewords = [ \"no\", \"not\", \"never\", \"neither\", \"nobody\", \"none\", \"nor\",\n",
    "\n",
    "    \"nothing\", \"nowhere\", \"few\", \"hardly\", \"little\", \"rarely\",\n",
    "\n",
    "    \"scarcely\", \"seldom\", \"hadn’t\", \"don’t\", \"doesn’t\",\n",
    "\n",
    "    \"didn’t\", \"couldn’t\", \"can’t\", \"wouldn’t\", \"haven’t\", \"aren’t\",\n",
    "\n",
    "    \"hasn’t\", \"won’t\", \"shouldn’t\", \"isn’t\", \"wasn’t\", \"weren’t\"]\n"
   ]
  },
  {
   "cell_type": "code",
   "execution_count": 13,
   "metadata": {},
   "outputs": [],
   "source": [
    "def Negative(tagged_words):\n",
    "        \n",
    "    for j in range(len(negativewords)):           \n",
    "        for tagged_word in tagged_words:\n",
    "            if tagged_word.text == negativewords[j]:\n",
    "                #print(tagged_word.text)\n",
    "                return SentenceType.NEGATIVE\n",
    "       "
   ]
  },
  {
   "cell_type": "code",
   "execution_count": 14,
   "metadata": {},
   "outputs": [],
   "source": [
    "def Assertive(tagged_words):\n",
    "    if endmark in ['.'] and not Imperative(tagged_words):\n",
    "        return SentenceType.ASSERTIVE"
   ]
  },
  {
   "cell_type": "code",
   "execution_count": 15,
   "metadata": {},
   "outputs": [],
   "source": [
    "def Interrogative(tagged_words):\n",
    "  \n",
    "    #Regex Rule:\n",
    "    #[MD/VBP/VBZ/VBD + PRP/NN/NNP/NNPS/NNS/VBG + *] or [WRB/WP + MD/VBP/VBZ/VBD + *]\n",
    "    #or [MD/VBP/VBZ/VBD + DT + PRP/NN/NNP/NNPS/NNS/VBG + *]\n",
    "    \n",
    "    firstRegexRule = [ [\"MD\", \"VBP\", \"VBZ\", \"VBD\"], [\"PRP\", \"NN\", \"NNP\", \"NNS\", \"VBG\"],]\n",
    "\n",
    "    secondRegexRule = [[\"WRB\", \"WP\"], [\"MD\", \"VBP\", \"VBZ\", \"VBD\"]]\n",
    "\n",
    "    thirdRegexRule = [[\"MD\", \"VBP\", \"VBZ\", \"VBD\"],[\"DT\"], [\"PRP\", \"NN\", \"NNP\", \"NNS\", \"VBG\"]]\n",
    "    \n",
    "  \n",
    "    if((isMatchingRegex(firstRegexRule, tagged_words)) or (isMatchingRegex(secondRegexRule, tagged_words))\\\n",
    "    or  (isMatchingRegex(thirdRegexRule, tagged_words))) or endmark in ['?']:\n",
    "            return SentenceType.INTERROGATIVE\n",
    "  \n",
    "   "
   ]
  },
  {
   "cell_type": "code",
   "execution_count": 16,
   "metadata": {},
   "outputs": [
    {
     "name": "stdout",
     "output_type": "stream",
     "text": [
      "SentenceType.IMPERATIVE\n"
     ]
    }
   ],
   "source": [
    "if (Imperative(tagged_words)):\n",
    "    print(Imperative(tagged_words))"
   ]
  },
  {
   "cell_type": "code",
   "execution_count": 17,
   "metadata": {},
   "outputs": [],
   "source": [
    "if (Interrogative(tagged_words)):\n",
    "    print(Interrogative(tagged_words))"
   ]
  },
  {
   "cell_type": "code",
   "execution_count": 18,
   "metadata": {},
   "outputs": [],
   "source": [
    "if Exclamatory(tagged_words):\n",
    "    print (Exclamatory(tagged_words))"
   ]
  },
  {
   "cell_type": "code",
   "execution_count": 19,
   "metadata": {},
   "outputs": [],
   "source": [
    "if Negative(tagged_words):\n",
    "    print(Negative(tagged_words))"
   ]
  },
  {
   "cell_type": "code",
   "execution_count": 20,
   "metadata": {},
   "outputs": [],
   "source": [
    "if Assertive(tagged_words):\n",
    "    print(Assertive(tagged_words))"
   ]
  }
 ],
 "metadata": {
  "kernelspec": {
   "display_name": "Python 3",
   "language": "python",
   "name": "python3"
  },
  "language_info": {
   "codemirror_mode": {
    "name": "ipython",
    "version": 3
   },
   "file_extension": ".py",
   "mimetype": "text/x-python",
   "name": "python",
   "nbconvert_exporter": "python",
   "pygments_lexer": "ipython3",
   "version": "3.7.0"
  }
 },
 "nbformat": 4,
 "nbformat_minor": 2
}
